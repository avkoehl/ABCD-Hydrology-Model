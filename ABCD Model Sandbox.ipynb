{
 "cells": [
  {
   "cell_type": "code",
   "execution_count": 1,
   "metadata": {},
   "outputs": [],
   "source": [
    "import matplotlib.pyplot as plt\n",
    "import numpy as np\n",
    "import pandas as pd\n",
    "from pathlib import Path\n",
    "from typing import Dict, Optional, Tuple"
   ]
  },
  {
   "cell_type": "code",
   "execution_count": 2,
   "metadata": {},
   "outputs": [],
   "source": [
    "import camelsus\n",
    "import pet"
   ]
  },
  {
   "cell_type": "markdown",
   "metadata": {},
   "source": [
    "# Definition of the ABCD Model"
   ]
  },
  {
   "cell_type": "code",
   "execution_count": 3,
   "metadata": {},
   "outputs": [],
   "source": [
    "def _abcd_model_timestep(\n",
    "    soil_moisture: float,\n",
    "    groundwater_storage: float,\n",
    "    precipitation: float,\n",
    "    potential_et: float,\n",
    "    parameters: Dict[str, float]\n",
    ") -> Tuple[float, float, float]:\n",
    "  \"\"\"Runs one timestep of the ABCD model.\"\"\"\n",
    "  \n",
    "  # Unpack parameters.\n",
    "  a = parameters['a']\n",
    "  b = parameters['b']\n",
    "  c = parameters['c']\n",
    "  d = parameters['d']\n",
    "\n",
    "  # Available soil water is the total amount of water that needs to be partitioned.\n",
    "  available_soil_water = soil_moisture + precipitation\n",
    "\n",
    "  # ET is limited by available water. See primary reference for theory:\n",
    "  # Thomas (1981) Improved Methods for National Water Assessment.\n",
    "  et_potential = (available_soil_water + b) / (2 * a) - (((available_soil_water + b) / (2 * a))**2 - b * available_soil_water / a)**(1/2)\n",
    "  soil_moisture = et_potential * np.exp(-potential_et / b)\n",
    "  actual_et = et_potential * (1 - np.exp(-potential_et / b))\n",
    "  actual_et = np.min([np.max([0, potential_et]), actual_et])\n",
    "\n",
    "  # Direct runoff is the fraction of available water that does not percolate.\n",
    "  direct_runoff = (1-c) * (available_soil_water - et_potential)\n",
    "  \n",
    "  # Groundwater components. Recharge is the balance of available water after\n",
    "  # direct runoff. Baseflow is a parameterized fraction of storage.\n",
    "  groundwater_storage = (c * (available_soil_water - et_potential) + groundwater_storage) / (1+d)\n",
    "  baseflow = d * groundwater_storage\n",
    "\n",
    "  # Runoff is the sum of direct runoff and baseflow.\n",
    "  runoff = direct_runoff + baseflow\n",
    "\n",
    "  return soil_moisture, groundwater_storage, runoff"
   ]
  },
  {
   "cell_type": "code",
   "execution_count": 4,
   "metadata": {},
   "outputs": [],
   "source": [
    "def abcd_model(\n",
    "    precipitation: np.ndarray,\n",
    "    potential_et: np.ndarray,\n",
    "    parameters: Dict[str, float]\n",
    ") -> np.ndarray:\n",
    "  \"\"\"Runs the ABCD model over a timeseries of inputs.\n",
    "  \n",
    "  Explanation of the model:\n",
    "  https://abcd.walkerenvres.com/theory.html\n",
    "\n",
    "  Explanation of parameters:\n",
    "  a: Controls the amount of runoff and recharge that occurs when the soils are under-saturated.\n",
    "  b: Controls the saturation level of the soils.\n",
    "  c: Defines the ratio of groundwater recharge to surface runoff.\n",
    "  d: Controls the rate of groundwater discharge.\n",
    "\n",
    "  Inputs:\n",
    "  --------\n",
    "    precipitation: Timeseries of precip values in arbirary units (e.g., [mm]).\n",
    "    potential_et: Timeseries of potential ET values in the same units as precipitation.\n",
    "    parameters: Mapping containing all four parameters listed above.\n",
    "\n",
    "  Returns:\n",
    "  --------\n",
    "    Timeseries of streamflow values in the same units as precipitation.\n",
    "\n",
    "  Raises:\n",
    "  --------\n",
    "    ValueError if number of timesteps in input arrays don't match.\n",
    "    ValuError if all four parameters (a, b, c, d) are not present.\n",
    "  \"\"\"\n",
    "  \n",
    "  # Number of timesteps.\n",
    "  num_timesteps = len(precipitation)\n",
    "  if len(potential_et) != num_timesteps:\n",
    "    raise ValueError(\n",
    "        f'Number of timesteps in Precip {len(precipitation)} '\n",
    "        f'and PET {len(potential_et)} must be the same.'\n",
    "    )\n",
    "\n",
    "  # Check all four parameters exist.\n",
    "  if any([parm not in parameters for parm in ['a', 'b', 'c', 'd']]):\n",
    "    raise ValueError('Paramerters are missing from the parameter mapping.')\n",
    "\n",
    "  # A standard way to initialize a hydrology model is dry.\n",
    "  # Initialize soil water at zero.\n",
    "  soil_moisture = 0.\n",
    "  groundwater_storage = 0.\n",
    "\n",
    "  # Initialize storage of output values.\n",
    "  runoff = np.full((num_timesteps, ), np.nan)\n",
    "\n",
    "  # Run the model over timesteps.\n",
    "  for t in range(num_timesteps):\n",
    "    soil_moisture, groundwater_storage, runoff[t] = _abcd_model_timestep(\n",
    "        soil_moisture,\n",
    "        groundwater_storage,\n",
    "        precipitation[t], \n",
    "        potential_et[t],\n",
    "        parameters=parameters\n",
    "    )\n",
    "\n",
    "  return runoff"
   ]
  },
  {
   "cell_type": "markdown",
   "metadata": {},
   "source": [
    "# Load Data"
   ]
  },
  {
   "cell_type": "code",
   "execution_count": 5,
   "metadata": {},
   "outputs": [],
   "source": [
    "# Path to the CAMELS dataset.\n",
    "camels_data_path = Path('camels_data/basin_dataset_public_v1p2')\n",
    "\n",
    "def load_abcd_data(basin: str) -> pd.DataFrame:\n",
    "    \"\"\"Loads data necessary to use the ABCD model from the CAMELS-US dataset.\n",
    "    \n",
    "    This function uses utilities from the NeuralHydrology repository:\n",
    "    https://github.com/neuralhydrology/neuralhydrology\n",
    "    \n",
    "    \"\"\"\n",
    "    # Load forcing data.\n",
    "    forcings, area = camelsus.load_camels_us_forcings(\n",
    "        data_dir=camels_data_path,\n",
    "        basin=basin,\n",
    "        forcings='daymet'\n",
    "    )\n",
    "\n",
    "    # Load catchment attributes to get latitude.\n",
    "    attributes = camelsus.load_camels_us_attributes(\n",
    "        data_dir=camels_data_path,\n",
    "        basins=[basin]\n",
    "    )\n",
    "\n",
    "    # Calculate PET from forcing data.\n",
    "    forcings['Potential ET'] = pet.get_priestley_taylor_pet(\n",
    "        t_min=forcings['tmin(C)'].values,\n",
    "        t_max=forcings['tmax(C)'].values,\n",
    "        s_rad=forcings['srad(W/m2)'].values,\n",
    "        lat=attributes.loc[basin, 'gauge_lat'],\n",
    "        elev=attributes.loc[basin, 'elev_mean'],\n",
    "        doy=np.array([ts.day_of_year for ts in forcings.index])\n",
    "    )\n",
    "\n",
    "    # Load area-normalized discharge.\n",
    "    forcings['Observed Runoff'] = camelsus.load_camels_us_discharge(\n",
    "        data_dir=camels_data_path,\n",
    "        basin=basin, \n",
    "        area=area\n",
    "    )\n",
    "\n",
    "    # Ensure that all values are >= 0.\n",
    "    # This only works for the columns we are using here.\n",
    "    # forcings[forcings < 0] = 0\n",
    "\n",
    "    forcings.rename(columns={'prcp(mm/day)': 'Precipitation'}, inplace=True)\n",
    "    return forcings[['Precipitation', 'Potential ET', 'Observed Runoff']]\n"
   ]
  },
  {
   "cell_type": "code",
   "execution_count": 6,
   "metadata": {},
   "outputs": [
    {
     "name": "stderr",
     "output_type": "stream",
     "text": [
      "/home/gsnearing/projects/abcd_model/camelsus.py:140: SettingWithCopyWarning: \n",
      "A value is trying to be set on a copy of a slice from a DataFrame\n",
      "\n",
      "See the caveats in the documentation: https://pandas.pydata.org/pandas-docs/stable/user_guide/indexing.html#returning-a-view-versus-a-copy\n",
      "  df.QObs[df.QObs<0] = np.nan\n"
     ]
    },
    {
     "data": {
      "text/html": [
       "<div>\n",
       "<style scoped>\n",
       "    .dataframe tbody tr th:only-of-type {\n",
       "        vertical-align: middle;\n",
       "    }\n",
       "\n",
       "    .dataframe tbody tr th {\n",
       "        vertical-align: top;\n",
       "    }\n",
       "\n",
       "    .dataframe thead th {\n",
       "        text-align: right;\n",
       "    }\n",
       "</style>\n",
       "<table border=\"1\" class=\"dataframe\">\n",
       "  <thead>\n",
       "    <tr style=\"text-align: right;\">\n",
       "      <th></th>\n",
       "      <th>Precipitation</th>\n",
       "      <th>Potential ET</th>\n",
       "      <th>Observed Runoff</th>\n",
       "    </tr>\n",
       "    <tr>\n",
       "      <th>date</th>\n",
       "      <th></th>\n",
       "      <th></th>\n",
       "      <th></th>\n",
       "    </tr>\n",
       "  </thead>\n",
       "  <tbody>\n",
       "    <tr>\n",
       "      <th>1980-01-01</th>\n",
       "      <td>0.00</td>\n",
       "      <td>-0.153488</td>\n",
       "      <td>1.644439</td>\n",
       "    </tr>\n",
       "    <tr>\n",
       "      <th>1980-01-02</th>\n",
       "      <td>0.00</td>\n",
       "      <td>-0.178527</td>\n",
       "      <td>1.457098</td>\n",
       "    </tr>\n",
       "    <tr>\n",
       "      <th>1980-01-03</th>\n",
       "      <td>0.00</td>\n",
       "      <td>-0.176266</td>\n",
       "      <td>1.290572</td>\n",
       "    </tr>\n",
       "    <tr>\n",
       "      <th>1980-01-04</th>\n",
       "      <td>0.00</td>\n",
       "      <td>-0.096179</td>\n",
       "      <td>1.144863</td>\n",
       "    </tr>\n",
       "    <tr>\n",
       "      <th>1980-01-05</th>\n",
       "      <td>0.00</td>\n",
       "      <td>-0.048007</td>\n",
       "      <td>1.040784</td>\n",
       "    </tr>\n",
       "    <tr>\n",
       "      <th>...</th>\n",
       "      <td>...</td>\n",
       "      <td>...</td>\n",
       "      <td>...</td>\n",
       "    </tr>\n",
       "    <tr>\n",
       "      <th>2014-12-27</th>\n",
       "      <td>0.00</td>\n",
       "      <td>-0.236676</td>\n",
       "      <td>NaN</td>\n",
       "    </tr>\n",
       "    <tr>\n",
       "      <th>2014-12-28</th>\n",
       "      <td>5.31</td>\n",
       "      <td>-0.090616</td>\n",
       "      <td>NaN</td>\n",
       "    </tr>\n",
       "    <tr>\n",
       "      <th>2014-12-29</th>\n",
       "      <td>0.00</td>\n",
       "      <td>-0.258922</td>\n",
       "      <td>NaN</td>\n",
       "    </tr>\n",
       "    <tr>\n",
       "      <th>2014-12-30</th>\n",
       "      <td>0.00</td>\n",
       "      <td>-0.173594</td>\n",
       "      <td>NaN</td>\n",
       "    </tr>\n",
       "    <tr>\n",
       "      <th>2014-12-31</th>\n",
       "      <td>0.00</td>\n",
       "      <td>-0.100391</td>\n",
       "      <td>NaN</td>\n",
       "    </tr>\n",
       "  </tbody>\n",
       "</table>\n",
       "<p>12784 rows × 3 columns</p>\n",
       "</div>"
      ],
      "text/plain": [
       "            Precipitation  Potential ET  Observed Runoff\n",
       "date                                                    \n",
       "1980-01-01           0.00     -0.153488         1.644439\n",
       "1980-01-02           0.00     -0.178527         1.457098\n",
       "1980-01-03           0.00     -0.176266         1.290572\n",
       "1980-01-04           0.00     -0.096179         1.144863\n",
       "1980-01-05           0.00     -0.048007         1.040784\n",
       "...                   ...           ...              ...\n",
       "2014-12-27           0.00     -0.236676              NaN\n",
       "2014-12-28           5.31     -0.090616              NaN\n",
       "2014-12-29           0.00     -0.258922              NaN\n",
       "2014-12-30           0.00     -0.173594              NaN\n",
       "2014-12-31           0.00     -0.100391              NaN\n",
       "\n",
       "[12784 rows x 3 columns]"
      ]
     },
     "execution_count": 6,
     "metadata": {},
     "output_type": "execute_result"
    },
    {
     "data": {
      "image/png": "[encoded data removed]",
      "text/plain": [
       "<Figure size 432x288 with 1 Axes>"
      ]
     },
     "metadata": {
      "needs_background": "light"
     },
     "output_type": "display_data"
    }
   ],
   "source": [
    "basin = '01022500'\n",
    "data = load_abcd_data(basin=basin)\n",
    "data.plot()\n",
    "data"
   ]
  },
  {
   "cell_type": "markdown",
   "metadata": {},
   "source": [
    "# Run the ABCD Model"
   ]
  },
  {
   "cell_type": "markdown",
   "metadata": {},
   "source": [
    "## Helper Functions"
   ]
  },
  {
   "cell_type": "code",
   "execution_count": 7,
   "metadata": {},
   "outputs": [],
   "source": [
    "_MIN_VALID_OBS_FOR_NSE_SCORE = 365\n",
    "\n",
    "def _calc_nse(sim: np.ndarray, obs: np.ndarray) -> float:\n",
    "  mask = np.where(~(np.isnan(sim) | np.isnan(obs)))[0]\n",
    "  if len(mask) < _MIN_VALID_OBS_FOR_NSE_SCORE:\n",
    "    return np.nan\n",
    "  return 1 - ((sim[mask] - obs[mask])**2).mean() / ((obs[mask] - obs[mask].mean())**2).mean()"
   ]
  },
  {
   "cell_type": "code",
   "execution_count": 8,
   "metadata": {},
   "outputs": [],
   "source": [
    "def run_and_plot(\n",
    "    parameters: Dict[str, float],\n",
    "    forcings: pd.DataFrame,\n",
    "):\n",
    "    \"\"\"Helper function to run and plot data for manual tuning.\"\"\"\n",
    "    \n",
    "    forcings['Simulated Runoff'] = abcd_model(\n",
    "        precipitation=forcings['Precipitation'].values,\n",
    "        potential_et=forcings['Potential ET'].values,\n",
    "        parameters=parameters\n",
    "    )\n",
    "\n",
    "    nse = _calc_nse(\n",
    "        sim=forcings['Simulated Runoff'].values,\n",
    "        obs=forcings['Observed Runoff'].values\n",
    "    )\n",
    "\n",
    "    plot_hydrographs(forcings, nse)"
   ]
  },
  {
   "cell_type": "code",
   "execution_count": 9,
   "metadata": {},
   "outputs": [],
   "source": [
    "def plot_hydrographs(\n",
    "    data: pd.DataFrame,\n",
    "    score: Optional[float] = None\n",
    "):\n",
    "\n",
    "    # Date range for plotting\n",
    "    years_to_plot = 2\n",
    "    daterange = data.index[-365*years_to_plot:]\n",
    "\n",
    "    # Plot sim and obs runoff.\n",
    "    ax = data[['Observed Runoff', 'Simulated Runoff']].loc[daterange].plot()\n",
    "\n",
    "    if score is not None:\n",
    "        x = ax.get_xlim()[0] + (ax.get_xlim()[1] - ax.get_xlim()[0]) * (1/50)\n",
    "        y = ax.get_ylim()[0] + (ax.get_ylim()[1] - ax.get_ylim()[0]) * (9/10)\n",
    "        ax.text(x, y, f'NSE = {score: 0.3}', fontsize=14, \n",
    "            bbox=dict(facecolor='white', edgecolor='black'))\n",
    "\n",
    "    # Aesthetics.\n",
    "    plt.grid()\n",
    "    plt.legend(loc='upper right')\n",
    "    plt.ylabel('Runoff [mm/day]')"
   ]
  },
  {
   "cell_type": "markdown",
   "metadata": {},
   "source": [
    "# Interactive Parameter Tuning"
   ]
  },
  {
   "cell_type": "code",
   "execution_count": 10,
   "metadata": {},
   "outputs": [],
   "source": [
    "from ipywidgets import *\n",
    "\n",
    "def _interactive_plot(\n",
    "    a: float,\n",
    "    b: float,\n",
    "    c: float,\n",
    "    d: float,\n",
    "):\n",
    "    parameters = {\n",
    "        'a': a,\n",
    "        'b': b,\n",
    "        'c': c,\n",
    "        'd': d,\n",
    "    }\n",
    "\n",
    "    run_and_plot(parameters, data)\n",
    "\n"
   ]
  },
  {
   "cell_type": "code",
   "execution_count": 11,
   "metadata": {},
   "outputs": [
    {
     "data": {
      "application/vnd.jupyter.widget-view+json": {
       "model_id": "8b2b8d52de0f43329c2d41ff571f3b85",
       "version_major": 2,
       "version_minor": 0
      },
      "text/plain": [
       "interactive(children=(FloatSlider(value=0.93, description='a', max=1.0, min=0.1, step=0.01), FloatSlider(value…"
      ]
     },
     "metadata": {},
     "output_type": "display_data"
    },
    {
     "data": {
      "text/plain": [
       "<function __main__._interactive_plot(a: float, b: float, c: float, d: float)>"
      ]
     },
     "execution_count": 11,
     "metadata": {},
     "output_type": "execute_result"
    }
   ],
   "source": [
    "interact(\n",
    "    _interactive_plot,\n",
    "    a=widgets.FloatSlider(value=0.93, min=0.1, max=1, step=0.01), \n",
    "    b=widgets.FloatSlider(value=3.5, min=0, max=12, step=0.1),\n",
    "    c=widgets.FloatSlider(value=0.53, min=0, max=1, step=0.01),\n",
    "    d=widgets.FloatSlider(value=0.3, min=0, max=1, step=0.01),\n",
    ")"
   ]
  },
  {
   "cell_type": "code",
   "execution_count": null,
   "metadata": {},
   "outputs": [],
   "source": []
  }
 ],
 "metadata": {
  "interpreter": {
   "hash": "1cdbf8d702bbb6c2366774f4bc257bbfbc37d6fac5c790621b439124159965a8"
  },
  "kernelspec": {
   "display_name": "Python 3.7.13 ('neuralhydrology')",
   "language": "python",
   "name": "python3"
  },
  "language_info": {
   "codemirror_mode": {
    "name": "ipython",
    "version": 3
   },
   "file_extension": ".py",
   "mimetype": "text/x-python",
   "name": "python",
   "nbconvert_exporter": "python",
   "pygments_lexer": "ipython3",
   "version": "3.7.13"
  },
  "orig_nbformat": 4
 },
 "nbformat": 4,
 "nbformat_minor": 2
}
